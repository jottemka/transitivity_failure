{
 "cells": [
  {
   "cell_type": "markdown",
   "metadata": {},
   "source": [
    "# How Prevalent is Transitivity-Failure in Bayesian Confirmation?\n",
    "\n",
    "This notebook corresponds to the following paper:\n",
    "\n",
    "https://www.journals.uchicago.edu/doi/abs/10.1086/731830?journalCode=bjps\n",
    "\n",
    "## Importing Packages and Setup"
   ]
  },
  {
   "cell_type": "code",
   "execution_count": 4,
   "metadata": {},
   "outputs": [
    {
     "ename": "ModuleNotFoundError",
     "evalue": "No module named 'numpy'",
     "output_type": "error",
     "traceback": [
      "\u001b[0;31m---------------------------------------------------------------------------\u001b[0m",
      "\u001b[0;31mModuleNotFoundError\u001b[0m                       Traceback (most recent call last)",
      "Cell \u001b[0;32mIn[4], line 1\u001b[0m\n\u001b[0;32m----> 1\u001b[0m \u001b[38;5;28;01mimport\u001b[39;00m \u001b[38;5;21;01mnumpy\u001b[39;00m \u001b[38;5;28;01mas\u001b[39;00m \u001b[38;5;21;01mnp\u001b[39;00m\n\u001b[1;32m      2\u001b[0m \u001b[38;5;28;01mimport\u001b[39;00m \u001b[38;5;21;01mpandas\u001b[39;00m \u001b[38;5;28;01mas\u001b[39;00m \u001b[38;5;21;01mpd\u001b[39;00m\n\u001b[1;32m      3\u001b[0m \u001b[38;5;28;01mimport\u001b[39;00m \u001b[38;5;21;01mpolars\u001b[39;00m \u001b[38;5;28;01mas\u001b[39;00m \u001b[38;5;21;01mpl\u001b[39;00m\n",
      "\u001b[0;31mModuleNotFoundError\u001b[0m: No module named 'numpy'"
     ]
    }
   ],
   "source": [
    "import numpy as np\n",
    "import pandas as pd\n",
    "import polars as pl\n",
    "from scipy import stats\n",
    "from itertools import chain, combinations\n",
    "from IPython.display import Math, display\n",
    "import warnings\n",
    "warnings.filterwarnings(\"ignore\", category=DeprecationWarning) "
   ]
  },
  {
   "cell_type": "markdown",
   "metadata": {},
   "source": [
    "## Defining Functions for Powerset and Probabilities"
   ]
  },
  {
   "cell_type": "code",
   "execution_count": 50,
   "metadata": {},
   "outputs": [],
   "source": [
    "# Powerset function (without the empty set)\n",
    "def powerset(s):\n",
    "    return chain.from_iterable(combinations(s, r) for r in range(1,len(s)+1))\n",
    "\n",
    "# Function that calculates all marginal and joint probabilities for a set of probability distributions, given as matrix\n",
    "def probabilities(matrix):\n",
    "\n",
    "    # Size of matrix, number of random variables\n",
    "    length, width = matrix.shape\n",
    "    num_variables = np.log2(width).astype(int)\n",
    "    \n",
    "    # Create matrix with all Boolean combinations\n",
    "    binmat = np.array([np.fromstring(np.binary_repr(i,num_variables), dtype=np.uint8)==49 for i in range(0,width)])\n",
    "\n",
    "    # Pick all probabilities from matrix\n",
    "    result = [pd.Series(np.sum(np.all(binmat[:,i],axis=1)*matrix,axis = 1), name = f\"P{i}\") for i in powerset(range(num_variables))]\n",
    "\n",
    "    return pl.DataFrame(result)\n"
   ]
  },
  {
   "cell_type": "markdown",
   "metadata": {},
   "source": [
    "## Simulating Probability Functions"
   ]
  },
  {
   "cell_type": "code",
   "execution_count": 111,
   "metadata": {},
   "outputs": [],
   "source": [
    "# Number of variables and distributions\n",
    "number_variables = 3\n",
    "number_distributions = 1000000\n",
    "\n",
    "# Sampling from Dirichlet distribution, calculating relevant probabilities\n",
    "matrix = pl.DataFrame(np.random.dirichlet(np.ones(2**number_variables), number_distributions))\n",
    "df = probabilities(matrix)"
   ]
  },
  {
   "cell_type": "markdown",
   "metadata": {},
   "source": [
    "## Results for Bayesian Confirmation"
   ]
  },
  {
   "cell_type": "code",
   "execution_count": 112,
   "metadata": {},
   "outputs": [
    {
     "data": {
      "text/html": [
       "<style type=\"text/css\">\n",
       "</style>\n",
       "<table id=\"T_1e25f\">\n",
       "  <thead>\n",
       "    <tr>\n",
       "      <th id=\"T_1e25f_level0_col0\" class=\"col_heading level0 col0\" >Label</th>\n",
       "      <th id=\"T_1e25f_level0_col1\" class=\"col_heading level0 col1\" >Pattern</th>\n",
       "      <th id=\"T_1e25f_level0_col2\" class=\"col_heading level0 col2\" >Conjunctive Prevalence</th>\n",
       "      <th id=\"T_1e25f_level0_col3\" class=\"col_heading level0 col3\" >Conditional Prevalence</th>\n",
       "    </tr>\n",
       "  </thead>\n",
       "  <tbody>\n",
       "    <tr>\n",
       "      <td id=\"T_1e25f_row0_col0\" class=\"data row0 col0\" >Transitivity</td>\n",
       "      <td id=\"T_1e25f_row0_col1\" class=\"data row0 col1\" >If A > B and B > C, then A > C.</td>\n",
       "      <td id=\"T_1e25f_row0_col2\" class=\"data row0 col2\" >0.090141</td>\n",
       "      <td id=\"T_1e25f_row0_col3\" class=\"data row0 col3\" >0.359474</td>\n",
       "    </tr>\n",
       "    <tr>\n",
       "      <td id=\"T_1e25f_row1_col0\" class=\"data row1 col0\" >Conjunctive Transitivity</td>\n",
       "      <td id=\"T_1e25f_row1_col1\" class=\"data row1 col1\" >If A > B and B > C, then A-and-B > C.</td>\n",
       "      <td id=\"T_1e25f_row1_col2\" class=\"data row1 col2\" >0.056355</td>\n",
       "      <td id=\"T_1e25f_row1_col3\" class=\"data row1 col3\" >0.224739</td>\n",
       "    </tr>\n",
       "    <tr>\n",
       "      <td id=\"T_1e25f_row2_col0\" class=\"data row2 col0\" >Conditional Transitivity</td>\n",
       "      <td id=\"T_1e25f_row2_col1\" class=\"data row2 col1\" >If A > B and B > C, then A > C conditional on B.</td>\n",
       "      <td id=\"T_1e25f_row2_col2\" class=\"data row2 col2\" >0.110982</td>\n",
       "      <td id=\"T_1e25f_row2_col3\" class=\"data row2 col3\" >0.442586</td>\n",
       "    </tr>\n",
       "    <tr>\n",
       "      <td id=\"T_1e25f_row3_col0\" class=\"data row3 col0\" >Cumulative Transitivity</td>\n",
       "      <td id=\"T_1e25f_row3_col1\" class=\"data row3 col1\" >If A > B and A-and-B > C, then A > C.</td>\n",
       "      <td id=\"T_1e25f_row3_col2\" class=\"data row3 col2\" >0.056849</td>\n",
       "      <td id=\"T_1e25f_row3_col3\" class=\"data row3 col3\" >0.226562</td>\n",
       "    </tr>\n",
       "    <tr>\n",
       "      <td id=\"T_1e25f_row4_col0\" class=\"data row4 col0\" >Agglomeration</td>\n",
       "      <td id=\"T_1e25f_row4_col1\" class=\"data row4 col1\" >If B > A and B > C, then B > A-and-C.</td>\n",
       "      <td id=\"T_1e25f_row4_col2\" class=\"data row4 col2\" >0.024842</td>\n",
       "      <td id=\"T_1e25f_row4_col3\" class=\"data row4 col3\" >0.099068</td>\n",
       "    </tr>\n",
       "    <tr>\n",
       "      <td id=\"T_1e25f_row5_col0\" class=\"data row5 col0\" >Cautious Monotonicity</td>\n",
       "      <td id=\"T_1e25f_row5_col1\" class=\"data row5 col1\" >If B > A and B > C, then B-and-C > A.</td>\n",
       "      <td id=\"T_1e25f_row5_col2\" class=\"data row5 col2\" >0.056435</td>\n",
       "      <td id=\"T_1e25f_row5_col3\" class=\"data row5 col3\" >0.225058</td>\n",
       "    </tr>\n",
       "    <tr>\n",
       "      <td id=\"T_1e25f_row6_col0\" class=\"data row6 col0\" >Rational Monotonicity</td>\n",
       "      <td id=\"T_1e25f_row6_col1\" class=\"data row6 col1\" >If B > A and B does not confirm non-C, then B-and-C > A.</td>\n",
       "      <td id=\"T_1e25f_row6_col2\" class=\"data row6 col2\" >0.056435</td>\n",
       "      <td id=\"T_1e25f_row6_col3\" class=\"data row6 col3\" >0.225058</td>\n",
       "    </tr>\n",
       "    <tr>\n",
       "      <td id=\"T_1e25f_row7_col0\" class=\"data row7 col0\" >Corroboration</td>\n",
       "      <td id=\"T_1e25f_row7_col1\" class=\"data row7 col1\" >If A > B and C > B, then A > B conditional on C and C > B conditional on A</td>\n",
       "      <td id=\"T_1e25f_row7_col2\" class=\"data row7 col2\" >0.091642</td>\n",
       "      <td id=\"T_1e25f_row7_col3\" class=\"data row7 col3\" >0.365460</td>\n",
       "    </tr>\n",
       "    <tr>\n",
       "      <td id=\"T_1e25f_row8_col0\" class=\"data row8 col0\" >Amalgamation</td>\n",
       "      <td id=\"T_1e25f_row8_col1\" class=\"data row8 col1\" >If A > B and C > B, then A-or-C > B.</td>\n",
       "      <td id=\"T_1e25f_row8_col2\" class=\"data row8 col2\" >0.025064</td>\n",
       "      <td id=\"T_1e25f_row8_col3\" class=\"data row8 col3\" >0.099953</td>\n",
       "    </tr>\n",
       "  </tbody>\n",
       "</table>\n"
      ],
      "text/plain": [
       "<pandas.io.formats.style.Styler at 0x7ff7cd38c210>"
      ]
     },
     "execution_count": 112,
     "metadata": {},
     "output_type": "execute_result"
    }
   ],
   "source": [
    "### Some useful variables\n",
    "\n",
    "# Defining antecedent for transitivity\n",
    "antecedent = (df[\"P(0, 1)\"] > df[\"P(0,)\"]*df[\"P(1,)\"]) & (df[\"P(1, 2)\"] > df[\"P(1,)\"]*df[\"P(2,)\"])\n",
    "ante_mean = antecedent.mean()\n",
    "\n",
    "# Defining antecedent for cumulative transitivity\n",
    "antecedent_cum = (df[\"P(0, 1)\"] > df[\"P(0,)\"]*df[\"P(1,)\"]) & (df[\"P(0, 1, 2)\"] > df[\"P(0, 1)\"]*df[\"P(2,)\"]) \n",
    "antecedent_cum_mean = antecedent_cum.mean()\n",
    "\n",
    "# Defining antecedent for rational monotonicity\n",
    "antecedent_rat = (df[\"P(0, 1)\"] > df[\"P(0,)\"]*df[\"P(1,)\"]) & (df[\"P(1, 2)\"] >= df[\"P(1,)\"]*df[\"P(2,)\"])\n",
    "antecedent_rat_mean = antecedent_rat.mean()\n",
    "\n",
    "# Defining consequent for conditional transitivity\n",
    "a_fails_to_confirm_c_conditional_on_b = (df[\"P(0, 1, 2)\"] <= ((df[\"P(1, 2)\"]/df[\"P(1,)\"])*df[\"P(0, 1)\"]))\n",
    "\n",
    "# Defining consequent for corroboration\n",
    "a_fails_to_confirm_b_conditional_on_c = (df[\"P(0, 1, 2)\"] <= ((df[\"P(1, 2)\"]/df[\"P(2,)\"])*df[\"P(0, 2)\"]))\n",
    "c_fails_to_confirm_b_conditional_on_a = (df[\"P(0, 1, 2)\"] <= ((df[\"P(0, 1)\"]/df[\"P(0,)\"])*df[\"P(0, 2)\"]))\n",
    "\n",
    "# Defining OR-confirmation\n",
    "probability_of_a_or_c = (df[\"P(0,)\"] + df[\"P(2,)\"] - df[\"P(0, 2)\"])\n",
    "probability_of_a_or_c_given_b = (df[\"P(0, 1)\"]/df[\"P(1,)\"] + df[\"P(1, 2)\"]/df[\"P(1,)\"] - df[\"P(0, 1, 2)\"]/df[\"P(1,)\"])\n",
    "\n",
    "### Results for different inference patterns\n",
    "\n",
    "# Transitivity\n",
    "conj_trans_failure = (antecedent & (df[\"P(0, 2)\"] <= df[\"P(0,)\"]*df[\"P(2,)\"])).mean()\n",
    "cond_trans_failure = conj_trans_failure / ante_mean\n",
    "\n",
    "# Conjunctive Transitivity\n",
    "conj_conj_trans_failure = (antecedent & (df[\"P(0, 1, 2)\"] <= df[\"P(0, 1)\"]*df[\"P(2,)\"])).mean()\n",
    "cond_conj_trans_failure = conj_conj_trans_failure / ante_mean\n",
    "\n",
    "# Conditional Transitivity\n",
    "conj_cond_trans_failure = (antecedent & a_fails_to_confirm_c_conditional_on_b).mean()\n",
    "cond_cond_trans_failure = conj_cond_trans_failure / ante_mean\n",
    "\n",
    "# Cumulative Transitivity\n",
    "conj_cum_trans_failure = (antecedent_cum & (df[\"P(0, 2)\"] <= df[\"P(0,)\"]*df[\"P(2,)\"])).mean()\n",
    "cond_cum_trans_failure = conj_cum_trans_failure / antecedent_cum_mean\n",
    "\n",
    "# Agglomeration\n",
    "conj_aggl_failure = (antecedent & (df[\"P(0, 1, 2)\"] <= df[\"P(0, 2)\"]*df[\"P(1,)\"])).mean()\n",
    "cond_aggl_failure = conj_aggl_failure / ante_mean\n",
    "\n",
    "# Cautious Monotonicity\n",
    "conj_cautm_failure = (antecedent & (df[\"P(0, 1, 2)\"] <= df[\"P(0,)\"]*df[\"P(1, 2)\"])).mean()\n",
    "cond_cautm_failure = conj_cautm_failure / ante_mean\n",
    "\n",
    "# Rational Monotonicity\n",
    "conj_ratm_failure = (antecedent_rat & (df[\"P(0, 1, 2)\"] <= df[\"P(0,)\"]*df[\"P(1, 2)\"])).mean()\n",
    "cond_ratm_failure = conj_ratm_failure / antecedent_rat_mean\n",
    "\n",
    "# Corroboration\n",
    "conj_corr_failure = (antecedent & (a_fails_to_confirm_b_conditional_on_c | c_fails_to_confirm_b_conditional_on_a)).mean()\n",
    "cond_corr_failure = conj_corr_failure / ante_mean\n",
    "\n",
    "# Amalgamation\n",
    "conj_amal_failure = (antecedent & (probability_of_a_or_c_given_b  <= probability_of_a_or_c )).mean()\n",
    "cond_amal_failure = conj_amal_failure / ante_mean\n",
    "\n",
    "# Summarizing\n",
    "results = pd.DataFrame([\n",
    "    [conj_trans_failure, cond_trans_failure],\n",
    "    [conj_conj_trans_failure, cond_conj_trans_failure],\n",
    "    [conj_cond_trans_failure, cond_cond_trans_failure],\n",
    "    [conj_cum_trans_failure, cond_cum_trans_failure],\n",
    "    [conj_aggl_failure, cond_aggl_failure],\n",
    "    [conj_cautm_failure, cond_cautm_failure],\n",
    "    [conj_ratm_failure, cond_ratm_failure],\n",
    "    [conj_corr_failure, cond_corr_failure],\n",
    "    [conj_amal_failure, cond_amal_failure]\n",
    "]).rename(columns={0: \"Conjunctive Prevalence\", 1: \"Conditional Prevalence\"})\n",
    "\n",
    "patterns = pd.DataFrame([\n",
    "['Transitivity',\"If A > B and B > C, then A > C.\"],\n",
    "['Conjunctive Transitivity', \"If A > B and B > C, then A-and-B > C.\"],\n",
    "['Conditional Transitivity', \"If A > B and B > C, then A > C conditional on B.\"],\n",
    "['Cumulative Transitivity', \"If A > B and A-and-B > C, then A > C.\"],\n",
    "['Agglomeration',\"If B > A and B > C, then B > A-and-C.\"],\n",
    "['Cautious Monotonicity',\"If B > A and B > C, then B-and-C > A.\"],\n",
    "['Rational Monotonicity',\"If B > A and B does not confirm non-C, then B-and-C > A.\"],\n",
    "['Corroboration',\"If A > B and C > B, then A > B conditional on C and C > B conditional on A\"],\n",
    "['Amalgamation',\"If A > B and C > B, then A-or-C > B.\"]\n",
    "]).rename(columns={0: \"Label\", 1: \"Pattern\"})\n",
    "\n",
    "pd.concat([patterns,results],axis=1).style.hide()"
   ]
  },
  {
   "cell_type": "markdown",
   "metadata": {},
   "source": [
    "## Results for Absolute Confirmation"
   ]
  },
  {
   "cell_type": "code",
   "execution_count": 113,
   "metadata": {},
   "outputs": [
    {
     "data": {
      "text/html": [
       "<style type=\"text/css\">\n",
       "</style>\n",
       "<table id=\"T_49dfd\">\n",
       "  <thead>\n",
       "    <tr>\n",
       "      <th id=\"T_49dfd_level0_col0\" class=\"col_heading level0 col0\" >Threshold</th>\n",
       "      <th id=\"T_49dfd_level0_col1\" class=\"col_heading level0 col1\" >Conjunctive Prevalence</th>\n",
       "      <th id=\"T_49dfd_level0_col2\" class=\"col_heading level0 col2\" >Conditional Prevalence</th>\n",
       "    </tr>\n",
       "  </thead>\n",
       "  <tbody>\n",
       "    <tr>\n",
       "      <td id=\"T_49dfd_row0_col0\" class=\"data row0 col0\" >0.500000</td>\n",
       "      <td id=\"T_49dfd_row0_col1\" class=\"data row0 col1\" >0.059070</td>\n",
       "      <td id=\"T_49dfd_row0_col2\" class=\"data row0 col2\" >0.236131</td>\n",
       "    </tr>\n",
       "    <tr>\n",
       "      <td id=\"T_49dfd_row1_col0\" class=\"data row1 col0\" >0.700000</td>\n",
       "      <td id=\"T_49dfd_row1_col1\" class=\"data row1 col1\" >0.013427</td>\n",
       "      <td id=\"T_49dfd_row1_col2\" class=\"data row1 col2\" >0.288176</td>\n",
       "    </tr>\n",
       "    <tr>\n",
       "      <td id=\"T_49dfd_row2_col0\" class=\"data row2 col0\" >0.900000</td>\n",
       "      <td id=\"T_49dfd_row2_col1\" class=\"data row2 col1\" >0.000208</td>\n",
       "      <td id=\"T_49dfd_row2_col2\" class=\"data row2 col2\" >0.274045</td>\n",
       "    </tr>\n",
       "    <tr>\n",
       "      <td id=\"T_49dfd_row3_col0\" class=\"data row3 col0\" >0.950000</td>\n",
       "      <td id=\"T_49dfd_row3_col1\" class=\"data row3 col1\" >0.000011</td>\n",
       "      <td id=\"T_49dfd_row3_col2\" class=\"data row3 col2\" >0.239130</td>\n",
       "    </tr>\n",
       "    <tr>\n",
       "      <td id=\"T_49dfd_row4_col0\" class=\"data row4 col0\" >0.960000</td>\n",
       "      <td id=\"T_49dfd_row4_col1\" class=\"data row4 col1\" >0.000007</td>\n",
       "      <td id=\"T_49dfd_row4_col2\" class=\"data row4 col2\" >0.350000</td>\n",
       "    </tr>\n",
       "    <tr>\n",
       "      <td id=\"T_49dfd_row5_col0\" class=\"data row5 col0\" >0.970000</td>\n",
       "      <td id=\"T_49dfd_row5_col1\" class=\"data row5 col1\" >0.000001</td>\n",
       "      <td id=\"T_49dfd_row5_col2\" class=\"data row5 col2\" >0.125000</td>\n",
       "    </tr>\n",
       "    <tr>\n",
       "      <td id=\"T_49dfd_row6_col0\" class=\"data row6 col0\" >0.980000</td>\n",
       "      <td id=\"T_49dfd_row6_col1\" class=\"data row6 col1\" >0.000002</td>\n",
       "      <td id=\"T_49dfd_row6_col2\" class=\"data row6 col2\" >0.500000</td>\n",
       "    </tr>\n",
       "  </tbody>\n",
       "</table>\n"
      ],
      "text/plain": [
       "<pandas.io.formats.style.Styler at 0x7ff641744210>"
      ]
     },
     "execution_count": 113,
     "metadata": {},
     "output_type": "execute_result"
    }
   ],
   "source": [
    "# Define thresholds\n",
    "thresholds = [.5,.7,.9,.95,.96,.97,.98]\n",
    "\n",
    "# Defining antecedent, conjunctive and conditional prevalence\n",
    "absolute_antecedent = [((df[\"P(0, 1)\"]/df[\"P(0,)\"] > t) & (df[\"P(1, 2)\"]/df[\"P(1,)\"] > t)).mean() for t in thresholds]\n",
    "conj_absolute = [((df[\"P(0, 1)\"]/df[\"P(0,)\"] > t) & (df[\"P(1, 2)\"]/df[\"P(1,)\"] > t) & (df[\"P(0, 2)\"]/df[\"P(0,)\"] <= t)).mean() for t in thresholds]\n",
    "cond_absolute = [ num/deno for num, deno in zip(conj_absolute, absolute_antecedent)]\n",
    "\n",
    "# Summarizing\n",
    "pd.DataFrame([thresholds,conj_absolute,cond_absolute]).T.rename(columns={0: \"Threshold\", 1: \"Conjunctive Prevalence\", 2: \"Conditional Prevalence\"}).style.hide()"
   ]
  }
 ],
 "metadata": {
  "kernelspec": {
   "display_name": ".venv",
   "language": "python",
   "name": "python3"
  },
  "language_info": {
   "codemirror_mode": {
    "name": "ipython",
    "version": 3
   },
   "file_extension": ".py",
   "mimetype": "text/x-python",
   "name": "python",
   "nbconvert_exporter": "python",
   "pygments_lexer": "ipython3",
   "version": "3.11.3"
  }
 },
 "nbformat": 4,
 "nbformat_minor": 2
}
