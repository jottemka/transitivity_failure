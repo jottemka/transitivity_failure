{
 "cells": [
  {
   "cell_type": "markdown",
   "metadata": {},
   "source": [
    "# How Prevalent is Transitivity-Failure in Bayesian Confirmation?\n",
    "\n",
    "This notebook corresponds to the following paper:\n",
    "\n",
    "- https://www.journals.uchicago.edu/doi/abs/10.1086/731830?journalCode=bjps\n",
    "\n",
    "## Importing Packages and Setup"
   ]
  },
  {
   "cell_type": "code",
   "execution_count": 7,
   "metadata": {},
   "outputs": [],
   "source": [
    "import numpy as np\n",
    "import pandas as pd\n",
    "import polars as pl\n",
    "from scipy import stats\n",
    "from itertools import chain, combinations\n",
    "from IPython.display import Math, display\n",
    "import warnings\n",
    "warnings.filterwarnings(\"ignore\", category=DeprecationWarning) "
   ]
  },
  {
   "cell_type": "markdown",
   "metadata": {},
   "source": [
    "## Defining Functions for Powerset and Probabilities"
   ]
  },
  {
   "cell_type": "code",
   "execution_count": 8,
   "metadata": {},
   "outputs": [],
   "source": [
    "# Powerset function (without the empty set)\n",
    "def powerset(s):\n",
    "    return chain.from_iterable(combinations(s, r) for r in range(1,len(s)+1))\n",
    "\n",
    "# Function that calculates all marginal and joint probabilities for a set of probability distributions, given as matrix\n",
    "def probabilities(matrix):\n",
    "\n",
    "    # Size of matrix, number of random variables\n",
    "    length, width = matrix.shape\n",
    "    num_variables = np.log2(width).astype(int)\n",
    "    \n",
    "    # Create matrix with all Boolean combinations\n",
    "    binmat = np.array([np.fromstring(np.binary_repr(i,num_variables), dtype=np.uint8)==49 for i in range(0,width)])\n",
    "\n",
    "    # Pick all probabilities from matrix\n",
    "    result = [pd.Series(np.sum(np.all(binmat[:,i],axis=1)*matrix,axis = 1), name = f\"P{i}\") for i in powerset(range(num_variables))]\n",
    "\n",
    "    return pl.DataFrame(result)\n"
   ]
  },
  {
   "cell_type": "markdown",
   "metadata": {},
   "source": [
    "## Simulating Probability Functions"
   ]
  },
  {
   "cell_type": "code",
   "execution_count": 9,
   "metadata": {},
   "outputs": [],
   "source": [
    "# Number of variables and distributions\n",
    "number_variables = 3\n",
    "number_distributions = 1000000\n",
    "\n",
    "# Sampling from Dirichlet distribution, calculating relevant probabilities\n",
    "matrix = pl.DataFrame(np.random.dirichlet(np.ones(2**number_variables), number_distributions))\n",
    "df = probabilities(matrix)"
   ]
  },
  {
   "cell_type": "markdown",
   "metadata": {},
   "source": [
    "## Results for Bayesian Confirmation"
   ]
  },
  {
   "cell_type": "code",
   "execution_count": 28,
   "metadata": {},
   "outputs": [
    {
     "data": {
      "text/html": [
       "<style type=\"text/css\">\n",
       "</style>\n",
       "<table id=\"T_78401\">\n",
       "  <thead>\n",
       "    <tr>\n",
       "      <th id=\"T_78401_level0_col0\" class=\"col_heading level0 col0\" >Label</th>\n",
       "      <th id=\"T_78401_level0_col1\" class=\"col_heading level0 col1\" >Inference Pattern</th>\n",
       "      <th id=\"T_78401_level0_col2\" class=\"col_heading level0 col2\" >Conjunctive Prevalence</th>\n",
       "      <th id=\"T_78401_level0_col3\" class=\"col_heading level0 col3\" >Conditional Prevalence</th>\n",
       "    </tr>\n",
       "  </thead>\n",
       "  <tbody>\n",
       "    <tr>\n",
       "      <td id=\"T_78401_row0_col0\" class=\"data row0 col0\" >Transitivity</td>\n",
       "      <td id=\"T_78401_row0_col1\" class=\"data row0 col1\" >If A > B and B > C,<br>then A > C.</td>\n",
       "      <td id=\"T_78401_row0_col2\" class=\"data row0 col2\" >0.090088</td>\n",
       "      <td id=\"T_78401_row0_col3\" class=\"data row0 col3\" >0.360805</td>\n",
       "    </tr>\n",
       "    <tr>\n",
       "      <td id=\"T_78401_row1_col0\" class=\"data row1 col0\" >Conjunctive Transitivity</td>\n",
       "      <td id=\"T_78401_row1_col1\" class=\"data row1 col1\" >If A > B and B > C,<br>then A∧B > C.</td>\n",
       "      <td id=\"T_78401_row1_col2\" class=\"data row1 col2\" >0.056521</td>\n",
       "      <td id=\"T_78401_row1_col3\" class=\"data row1 col3\" >0.226368</td>\n",
       "    </tr>\n",
       "    <tr>\n",
       "      <td id=\"T_78401_row2_col0\" class=\"data row2 col0\" >Conditional Transitivity</td>\n",
       "      <td id=\"T_78401_row2_col1\" class=\"data row2 col1\" >If A > B and B > C,<br>then A > C conditional on B.</td>\n",
       "      <td id=\"T_78401_row2_col2\" class=\"data row2 col2\" >0.110390</td>\n",
       "      <td id=\"T_78401_row2_col3\" class=\"data row2 col3\" >0.442115</td>\n",
       "    </tr>\n",
       "    <tr>\n",
       "      <td id=\"T_78401_row3_col0\" class=\"data row3 col0\" >Cumulative Transitivity</td>\n",
       "      <td id=\"T_78401_row3_col1\" class=\"data row3 col1\" >If A > B and A∧B > C,<br>then A > C.</td>\n",
       "      <td id=\"T_78401_row3_col2\" class=\"data row3 col2\" >0.056564</td>\n",
       "      <td id=\"T_78401_row3_col3\" class=\"data row3 col3\" >0.226521</td>\n",
       "    </tr>\n",
       "    <tr>\n",
       "      <td id=\"T_78401_row4_col0\" class=\"data row4 col0\" >Agglomeration</td>\n",
       "      <td id=\"T_78401_row4_col1\" class=\"data row4 col1\" >If B > A and B > C,<br>then B > A∧C.</td>\n",
       "      <td id=\"T_78401_row4_col2\" class=\"data row4 col2\" >0.024918</td>\n",
       "      <td id=\"T_78401_row4_col3\" class=\"data row4 col3\" >0.099797</td>\n",
       "    </tr>\n",
       "    <tr>\n",
       "      <td id=\"T_78401_row5_col0\" class=\"data row5 col0\" >Cautious Monotonicity</td>\n",
       "      <td id=\"T_78401_row5_col1\" class=\"data row5 col1\" >If B > A and B > C,<br>then B∧C > A.</td>\n",
       "      <td id=\"T_78401_row5_col2\" class=\"data row5 col2\" >0.056716</td>\n",
       "      <td id=\"T_78401_row5_col3\" class=\"data row5 col3\" >0.227149</td>\n",
       "    </tr>\n",
       "    <tr>\n",
       "      <td id=\"T_78401_row6_col0\" class=\"data row6 col0\" >Rational Monotonicity</td>\n",
       "      <td id=\"T_78401_row6_col1\" class=\"data row6 col1\" >If B > A and B ≯ ¬C,<br>then B∧C > A.</td>\n",
       "      <td id=\"T_78401_row6_col2\" class=\"data row6 col2\" >0.056716</td>\n",
       "      <td id=\"T_78401_row6_col3\" class=\"data row6 col3\" >0.227149</td>\n",
       "    </tr>\n",
       "    <tr>\n",
       "      <td id=\"T_78401_row7_col0\" class=\"data row7 col0\" >Corroboration</td>\n",
       "      <td id=\"T_78401_row7_col1\" class=\"data row7 col1\" >If A > B and C > B,<br>then A > B conditional on C and C > B conditional on A</td>\n",
       "      <td id=\"T_78401_row7_col2\" class=\"data row7 col2\" >0.091546</td>\n",
       "      <td id=\"T_78401_row7_col3\" class=\"data row7 col3\" >0.366645</td>\n",
       "    </tr>\n",
       "    <tr>\n",
       "      <td id=\"T_78401_row8_col0\" class=\"data row8 col0\" >Amalgamation</td>\n",
       "      <td id=\"T_78401_row8_col1\" class=\"data row8 col1\" >If A > B and C > B,<br>then A∨C > B.</td>\n",
       "      <td id=\"T_78401_row8_col2\" class=\"data row8 col2\" >0.025002</td>\n",
       "      <td id=\"T_78401_row8_col3\" class=\"data row8 col3\" >0.100134</td>\n",
       "    </tr>\n",
       "  </tbody>\n",
       "</table>\n"
      ],
      "text/plain": [
       "<pandas.io.formats.style.Styler at 0x7f9543dc7b10>"
      ]
     },
     "execution_count": 28,
     "metadata": {},
     "output_type": "execute_result"
    }
   ],
   "source": [
    "### Some useful variables\n",
    "\n",
    "# Defining antecedent for transitivity\n",
    "antecedent = (df[\"P(0, 1)\"] > df[\"P(0,)\"]*df[\"P(1,)\"]) & (df[\"P(1, 2)\"] > df[\"P(1,)\"]*df[\"P(2,)\"])\n",
    "ante_mean = antecedent.mean()\n",
    "\n",
    "# Defining antecedent for cumulative transitivity\n",
    "antecedent_cum = (df[\"P(0, 1)\"] > df[\"P(0,)\"]*df[\"P(1,)\"]) & (df[\"P(0, 1, 2)\"] > df[\"P(0, 1)\"]*df[\"P(2,)\"]) \n",
    "antecedent_cum_mean = antecedent_cum.mean()\n",
    "\n",
    "# Defining antecedent for rational monotonicity\n",
    "antecedent_rat = (df[\"P(0, 1)\"] > df[\"P(0,)\"]*df[\"P(1,)\"]) & (df[\"P(1, 2)\"] >= df[\"P(1,)\"]*df[\"P(2,)\"])\n",
    "antecedent_rat_mean = antecedent_rat.mean()\n",
    "\n",
    "# Defining consequent for conditional transitivity\n",
    "a_fails_to_confirm_c_conditional_on_b = (df[\"P(0, 1, 2)\"] <= ((df[\"P(1, 2)\"]/df[\"P(1,)\"])*df[\"P(0, 1)\"]))\n",
    "\n",
    "# Defining consequent for corroboration\n",
    "a_fails_to_confirm_b_conditional_on_c = (df[\"P(0, 1, 2)\"] <= ((df[\"P(1, 2)\"]/df[\"P(2,)\"])*df[\"P(0, 2)\"]))\n",
    "c_fails_to_confirm_b_conditional_on_a = (df[\"P(0, 1, 2)\"] <= ((df[\"P(0, 1)\"]/df[\"P(0,)\"])*df[\"P(0, 2)\"]))\n",
    "\n",
    "# Defining OR-confirmation\n",
    "probability_of_a_or_c = (df[\"P(0,)\"] + df[\"P(2,)\"] - df[\"P(0, 2)\"])\n",
    "probability_of_a_or_c_given_b = (df[\"P(0, 1)\"]/df[\"P(1,)\"] + df[\"P(1, 2)\"]/df[\"P(1,)\"] - df[\"P(0, 1, 2)\"]/df[\"P(1,)\"])\n",
    "\n",
    "### Results for different inference patterns\n",
    "\n",
    "# Transitivity\n",
    "conj_trans_failure = (antecedent & (df[\"P(0, 2)\"] <= df[\"P(0,)\"]*df[\"P(2,)\"])).mean()\n",
    "cond_trans_failure = conj_trans_failure / ante_mean\n",
    "\n",
    "# Conjunctive Transitivity\n",
    "conj_conj_trans_failure = (antecedent & (df[\"P(0, 1, 2)\"] <= df[\"P(0, 1)\"]*df[\"P(2,)\"])).mean()\n",
    "cond_conj_trans_failure = conj_conj_trans_failure / ante_mean\n",
    "\n",
    "# Conditional Transitivity\n",
    "conj_cond_trans_failure = (antecedent & a_fails_to_confirm_c_conditional_on_b).mean()\n",
    "cond_cond_trans_failure = conj_cond_trans_failure / ante_mean\n",
    "\n",
    "# Cumulative Transitivity\n",
    "conj_cum_trans_failure = (antecedent_cum & (df[\"P(0, 2)\"] <= df[\"P(0,)\"]*df[\"P(2,)\"])).mean()\n",
    "cond_cum_trans_failure = conj_cum_trans_failure / antecedent_cum_mean\n",
    "\n",
    "# Agglomeration\n",
    "conj_aggl_failure = (antecedent & (df[\"P(0, 1, 2)\"] <= df[\"P(0, 2)\"]*df[\"P(1,)\"])).mean()\n",
    "cond_aggl_failure = conj_aggl_failure / ante_mean\n",
    "\n",
    "# Cautious Monotonicity\n",
    "conj_cautm_failure = (antecedent & (df[\"P(0, 1, 2)\"] <= df[\"P(0,)\"]*df[\"P(1, 2)\"])).mean()\n",
    "cond_cautm_failure = conj_cautm_failure / ante_mean\n",
    "\n",
    "# Rational Monotonicity\n",
    "conj_ratm_failure = (antecedent_rat & (df[\"P(0, 1, 2)\"] <= df[\"P(0,)\"]*df[\"P(1, 2)\"])).mean()\n",
    "cond_ratm_failure = conj_ratm_failure / antecedent_rat_mean\n",
    "\n",
    "# Corroboration\n",
    "conj_corr_failure = (antecedent & (a_fails_to_confirm_b_conditional_on_c | c_fails_to_confirm_b_conditional_on_a)).mean()\n",
    "cond_corr_failure = conj_corr_failure / ante_mean\n",
    "\n",
    "# Amalgamation\n",
    "conj_amal_failure = (antecedent & (probability_of_a_or_c_given_b  <= probability_of_a_or_c )).mean()\n",
    "cond_amal_failure = conj_amal_failure / ante_mean\n",
    "\n",
    "# Summarizing\n",
    "results = pd.DataFrame([\n",
    "    [conj_trans_failure, cond_trans_failure],\n",
    "    [conj_conj_trans_failure, cond_conj_trans_failure],\n",
    "    [conj_cond_trans_failure, cond_cond_trans_failure],\n",
    "    [conj_cum_trans_failure, cond_cum_trans_failure],\n",
    "    [conj_aggl_failure, cond_aggl_failure],\n",
    "    [conj_cautm_failure, cond_cautm_failure],\n",
    "    [conj_ratm_failure, cond_ratm_failure],\n",
    "    [conj_corr_failure, cond_corr_failure],\n",
    "    [conj_amal_failure, cond_amal_failure]\n",
    "]).rename(columns={0: \"Conjunctive Prevalence\", 1: \"Conditional Prevalence\"})\n",
    "\n",
    "patterns = pd.DataFrame([\n",
    "['Transitivity',\"If A > B and B > C,<br>then A > C.\"],\n",
    "['Conjunctive Transitivity', \"If A > B and B > C,<br>then A∧B > C.\"],\n",
    "['Conditional Transitivity', \"If A > B and B > C,<br>then A > C conditional on B.\"],\n",
    "['Cumulative Transitivity', \"If A > B and A∧B > C,<br>then A > C.\"],\n",
    "['Agglomeration',\"If B > A and B > C,<br>then B > A∧C.\"],\n",
    "['Cautious Monotonicity',\"If B > A and B > C,<br>then B∧C > A.\"],\n",
    "['Rational Monotonicity',\"If B > A and B ≯ ¬C,<br>then B∧C > A.\"],\n",
    "['Corroboration',\"If A > B and C > B,<br>then A > B conditional on C and C > B conditional on A\"],\n",
    "['Amalgamation',\"If A > B and C > B,<br>then A∨C > B.\"]\n",
    "]).rename(columns={0: \"Label\", 1: \"Inference Pattern\"})\n",
    "\n",
    "pd.concat([patterns,results],axis=1).style.hide()"
   ]
  },
  {
   "cell_type": "markdown",
   "metadata": {},
   "source": [
    "## Results for Absolute Confirmation"
   ]
  },
  {
   "cell_type": "code",
   "execution_count": 1,
   "metadata": {},
   "outputs": [
    {
     "ename": "NameError",
     "evalue": "name 'df' is not defined",
     "output_type": "error",
     "traceback": [
      "\u001b[0;31m---------------------------------------------------------------------------\u001b[0m",
      "\u001b[0;31mNameError\u001b[0m                                 Traceback (most recent call last)",
      "Cell \u001b[0;32mIn[1], line 5\u001b[0m\n\u001b[1;32m      2\u001b[0m thresholds \u001b[38;5;241m=\u001b[39m [\u001b[38;5;241m.5\u001b[39m,\u001b[38;5;241m.7\u001b[39m,\u001b[38;5;241m.9\u001b[39m,\u001b[38;5;241m.95\u001b[39m,\u001b[38;5;241m.96\u001b[39m,\u001b[38;5;241m.97\u001b[39m,\u001b[38;5;241m.98\u001b[39m]\n\u001b[1;32m      4\u001b[0m \u001b[38;5;66;03m# Defining antecedent, conjunctive and conditional prevalence\u001b[39;00m\n\u001b[0;32m----> 5\u001b[0m absolute_antecedent \u001b[38;5;241m=\u001b[39m \u001b[43m[\u001b[49m\u001b[43m(\u001b[49m\u001b[43m(\u001b[49m\u001b[43mdf\u001b[49m\u001b[43m[\u001b[49m\u001b[38;5;124;43m\"\u001b[39;49m\u001b[38;5;124;43mP(0, 1)\u001b[39;49m\u001b[38;5;124;43m\"\u001b[39;49m\u001b[43m]\u001b[49m\u001b[38;5;241;43m/\u001b[39;49m\u001b[43mdf\u001b[49m\u001b[43m[\u001b[49m\u001b[38;5;124;43m\"\u001b[39;49m\u001b[38;5;124;43mP(0,)\u001b[39;49m\u001b[38;5;124;43m\"\u001b[39;49m\u001b[43m]\u001b[49m\u001b[43m \u001b[49m\u001b[38;5;241;43m>\u001b[39;49m\u001b[43m \u001b[49m\u001b[43mt\u001b[49m\u001b[43m)\u001b[49m\u001b[43m \u001b[49m\u001b[38;5;241;43m&\u001b[39;49m\u001b[43m \u001b[49m\u001b[43m(\u001b[49m\u001b[43mdf\u001b[49m\u001b[43m[\u001b[49m\u001b[38;5;124;43m\"\u001b[39;49m\u001b[38;5;124;43mP(1, 2)\u001b[39;49m\u001b[38;5;124;43m\"\u001b[39;49m\u001b[43m]\u001b[49m\u001b[38;5;241;43m/\u001b[39;49m\u001b[43mdf\u001b[49m\u001b[43m[\u001b[49m\u001b[38;5;124;43m\"\u001b[39;49m\u001b[38;5;124;43mP(1,)\u001b[39;49m\u001b[38;5;124;43m\"\u001b[39;49m\u001b[43m]\u001b[49m\u001b[43m \u001b[49m\u001b[38;5;241;43m>\u001b[39;49m\u001b[43m \u001b[49m\u001b[43mt\u001b[49m\u001b[43m)\u001b[49m\u001b[43m)\u001b[49m\u001b[38;5;241;43m.\u001b[39;49m\u001b[43mmean\u001b[49m\u001b[43m(\u001b[49m\u001b[43m)\u001b[49m\u001b[43m \u001b[49m\u001b[38;5;28;43;01mfor\u001b[39;49;00m\u001b[43m \u001b[49m\u001b[43mt\u001b[49m\u001b[43m \u001b[49m\u001b[38;5;129;43;01min\u001b[39;49;00m\u001b[43m \u001b[49m\u001b[43mthresholds\u001b[49m\u001b[43m]\u001b[49m\n\u001b[1;32m      6\u001b[0m conj_absolute \u001b[38;5;241m=\u001b[39m [((df[\u001b[38;5;124m\"\u001b[39m\u001b[38;5;124mP(0, 1)\u001b[39m\u001b[38;5;124m\"\u001b[39m]\u001b[38;5;241m/\u001b[39mdf[\u001b[38;5;124m\"\u001b[39m\u001b[38;5;124mP(0,)\u001b[39m\u001b[38;5;124m\"\u001b[39m] \u001b[38;5;241m>\u001b[39m t) \u001b[38;5;241m&\u001b[39m (df[\u001b[38;5;124m\"\u001b[39m\u001b[38;5;124mP(1, 2)\u001b[39m\u001b[38;5;124m\"\u001b[39m]\u001b[38;5;241m/\u001b[39mdf[\u001b[38;5;124m\"\u001b[39m\u001b[38;5;124mP(1,)\u001b[39m\u001b[38;5;124m\"\u001b[39m] \u001b[38;5;241m>\u001b[39m t) \u001b[38;5;241m&\u001b[39m (df[\u001b[38;5;124m\"\u001b[39m\u001b[38;5;124mP(0, 2)\u001b[39m\u001b[38;5;124m\"\u001b[39m]\u001b[38;5;241m/\u001b[39mdf[\u001b[38;5;124m\"\u001b[39m\u001b[38;5;124mP(0,)\u001b[39m\u001b[38;5;124m\"\u001b[39m] \u001b[38;5;241m<\u001b[39m\u001b[38;5;241m=\u001b[39m t))\u001b[38;5;241m.\u001b[39mmean() \u001b[38;5;28;01mfor\u001b[39;00m t \u001b[38;5;129;01min\u001b[39;00m thresholds]\n\u001b[1;32m      7\u001b[0m cond_absolute \u001b[38;5;241m=\u001b[39m [ num\u001b[38;5;241m/\u001b[39mdeno \u001b[38;5;28;01mfor\u001b[39;00m num, deno \u001b[38;5;129;01min\u001b[39;00m \u001b[38;5;28mzip\u001b[39m(conj_absolute, absolute_antecedent)]\n",
      "Cell \u001b[0;32mIn[1], line 5\u001b[0m, in \u001b[0;36m<listcomp>\u001b[0;34m(.0)\u001b[0m\n\u001b[1;32m      2\u001b[0m thresholds \u001b[38;5;241m=\u001b[39m [\u001b[38;5;241m.5\u001b[39m,\u001b[38;5;241m.7\u001b[39m,\u001b[38;5;241m.9\u001b[39m,\u001b[38;5;241m.95\u001b[39m,\u001b[38;5;241m.96\u001b[39m,\u001b[38;5;241m.97\u001b[39m,\u001b[38;5;241m.98\u001b[39m]\n\u001b[1;32m      4\u001b[0m \u001b[38;5;66;03m# Defining antecedent, conjunctive and conditional prevalence\u001b[39;00m\n\u001b[0;32m----> 5\u001b[0m absolute_antecedent \u001b[38;5;241m=\u001b[39m [((\u001b[43mdf\u001b[49m[\u001b[38;5;124m\"\u001b[39m\u001b[38;5;124mP(0, 1)\u001b[39m\u001b[38;5;124m\"\u001b[39m]\u001b[38;5;241m/\u001b[39mdf[\u001b[38;5;124m\"\u001b[39m\u001b[38;5;124mP(0,)\u001b[39m\u001b[38;5;124m\"\u001b[39m] \u001b[38;5;241m>\u001b[39m t) \u001b[38;5;241m&\u001b[39m (df[\u001b[38;5;124m\"\u001b[39m\u001b[38;5;124mP(1, 2)\u001b[39m\u001b[38;5;124m\"\u001b[39m]\u001b[38;5;241m/\u001b[39mdf[\u001b[38;5;124m\"\u001b[39m\u001b[38;5;124mP(1,)\u001b[39m\u001b[38;5;124m\"\u001b[39m] \u001b[38;5;241m>\u001b[39m t))\u001b[38;5;241m.\u001b[39mmean() \u001b[38;5;28;01mfor\u001b[39;00m t \u001b[38;5;129;01min\u001b[39;00m thresholds]\n\u001b[1;32m      6\u001b[0m conj_absolute \u001b[38;5;241m=\u001b[39m [((df[\u001b[38;5;124m\"\u001b[39m\u001b[38;5;124mP(0, 1)\u001b[39m\u001b[38;5;124m\"\u001b[39m]\u001b[38;5;241m/\u001b[39mdf[\u001b[38;5;124m\"\u001b[39m\u001b[38;5;124mP(0,)\u001b[39m\u001b[38;5;124m\"\u001b[39m] \u001b[38;5;241m>\u001b[39m t) \u001b[38;5;241m&\u001b[39m (df[\u001b[38;5;124m\"\u001b[39m\u001b[38;5;124mP(1, 2)\u001b[39m\u001b[38;5;124m\"\u001b[39m]\u001b[38;5;241m/\u001b[39mdf[\u001b[38;5;124m\"\u001b[39m\u001b[38;5;124mP(1,)\u001b[39m\u001b[38;5;124m\"\u001b[39m] \u001b[38;5;241m>\u001b[39m t) \u001b[38;5;241m&\u001b[39m (df[\u001b[38;5;124m\"\u001b[39m\u001b[38;5;124mP(0, 2)\u001b[39m\u001b[38;5;124m\"\u001b[39m]\u001b[38;5;241m/\u001b[39mdf[\u001b[38;5;124m\"\u001b[39m\u001b[38;5;124mP(0,)\u001b[39m\u001b[38;5;124m\"\u001b[39m] \u001b[38;5;241m<\u001b[39m\u001b[38;5;241m=\u001b[39m t))\u001b[38;5;241m.\u001b[39mmean() \u001b[38;5;28;01mfor\u001b[39;00m t \u001b[38;5;129;01min\u001b[39;00m thresholds]\n\u001b[1;32m      7\u001b[0m cond_absolute \u001b[38;5;241m=\u001b[39m [ num\u001b[38;5;241m/\u001b[39mdeno \u001b[38;5;28;01mfor\u001b[39;00m num, deno \u001b[38;5;129;01min\u001b[39;00m \u001b[38;5;28mzip\u001b[39m(conj_absolute, absolute_antecedent)]\n",
      "\u001b[0;31mNameError\u001b[0m: name 'df' is not defined"
     ]
    }
   ],
   "source": [
    "# Define thresholds\n",
    "thresholds = [.5,.7,.9,.95,.96,.97,.98]\n",
    "\n",
    "# Defining antecedent, conjunctive and conditional prevalence\n",
    "absolute_antecedent = [((df[\"P(0, 1)\"]/df[\"P(0,)\"] > t) & (df[\"P(1, 2)\"]/df[\"P(1,)\"] > t)).mean() for t in thresholds]\n",
    "conj_absolute = [((df[\"P(0, 1)\"]/df[\"P(0,)\"] > t) & (df[\"P(1, 2)\"]/df[\"P(1,)\"] > t) & (df[\"P(0, 2)\"]/df[\"P(0,)\"] <= t)).mean() for t in thresholds]\n",
    "cond_absolute = [ num/deno for num, deno in zip(conj_absolute, absolute_antecedent)]\n",
    "\n",
    "# Summarizing\n",
    "pd.DataFrame([thresholds,conj_absolute,cond_absolute]).T.rename(columns={0: \"Threshold\", 1: \"Conjunctive Prevalence\", 2: \"Conditional Prevalence\"}).style.hide()"
   ]
  }
 ],
 "metadata": {
  "kernelspec": {
   "display_name": ".venv",
   "language": "python",
   "name": "python3"
  },
  "language_info": {
   "codemirror_mode": {
    "name": "ipython",
    "version": 3
   },
   "file_extension": ".py",
   "mimetype": "text/x-python",
   "name": "python",
   "nbconvert_exporter": "python",
   "pygments_lexer": "ipython3",
   "version": "3.11.3"
  }
 },
 "nbformat": 4,
 "nbformat_minor": 2
}
